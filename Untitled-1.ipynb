{
 "cells": [
  {
   "attachments": {},
   "cell_type": "markdown",
   "metadata": {},
   "source": [
    "<p style=\"color: #22ebff;\"> <strong style=\"color: orange;\">Title</strong> :  house price prediction according to size of the house</p>\n",
    "<p style=\"color: black;\">\n",
    "<h5>introduction : </h5>\n",
    "<small>the objective of this assignment is to predict the house price according to the size of the house</small>\n",
    "</p>"
   ]
  },
  {
   "cell_type": "code",
   "execution_count": 37,
   "metadata": {},
   "outputs": [],
   "source": [
    "# importing the libaries\n",
    "import pandas as pd\n",
    "import numpy as np\n",
    "import matplotlib.pyplot as plt"
   ]
  },
  {
   "attachments": {},
   "cell_type": "markdown",
   "metadata": {},
   "source": [
    "<p style=\"color: gold;\">DataSet Description </p>\n",
    "<small>\n",
    "dataset: custom data set was created using numpy library<br>\n",
    "features: contains two features size of the house and price of the house<br>\n",
    "\n",
    "</small>"
   ]
  },
  {
   "cell_type": "code",
   "execution_count": 38,
   "metadata": {},
   "outputs": [],
   "source": [
    "# creating my own data set using numpy library\n",
    "\n",
    "size = np.random.rand(46) * 14 + 1\n",
    "price = size * 8 + np.random.rand(46) * 10 \n",
    "\n",
    "house_size = np.round(size, 2)\n",
    "house_price = np.round(price, 2)"
   ]
  },
  {
   "cell_type": "code",
   "execution_count": 39,
   "metadata": {},
   "outputs": [
    {
     "data": {
      "text/plain": [
       "{'size': array([ 5.24,  3.42,  5.41,  9.14, 14.23,  3.66, 12.34, 12.82,  9.98,\n",
       "         3.51, 14.3 ,  9.24,  5.81, 13.19,  3.84,  5.83, 14.57,  8.54,\n",
       "        12.21,  3.82, 12.94, 14.01,  4.98,  6.18,  5.19, 13.93, 11.26,\n",
       "        13.45, 14.99, 14.89,  1.88, 10.1 , 11.97,  7.83, 12.04, 14.15,\n",
       "         6.41, 13.81, 10.91,  6.6 , 10.44,  3.48, 10.51, 13.8 ,  1.78,\n",
       "        11.91]),\n",
       " 'price': array([ 44.32,  36.33,  45.36,  78.46, 118.27,  38.07, 105.57, 110.06,\n",
       "         87.74,  36.63, 120.46,  82.49,  52.63, 111.52,  36.59,  48.41,\n",
       "        120.58,  71.85,  99.32,  33.41, 113.1 , 113.22,  43.4 ,  56.67,\n",
       "         48.65, 116.87,  91.4 , 109.42, 128.3 , 127.58,  18.4 ,  88.45,\n",
       "        100.26,  63.82, 101.61, 121.86,  51.61, 119.78,  95.61,  55.3 ,\n",
       "         84.17,  35.34,  90.79, 111.96,  20.42,  97.71])}"
      ]
     },
     "execution_count": 39,
     "metadata": {},
     "output_type": "execute_result"
    }
   ],
   "source": [
    "data_set = {\n",
    "    'size': house_size,\n",
    "    'price': house_price\n",
    "}\n",
    "\n",
    "data_set"
   ]
  },
  {
   "attachments": {},
   "cell_type": "markdown",
   "metadata": {},
   "source": [
    "<strong style=\"color: #22ebff;\">EDA</strong><br>\n",
    "<small>\n",
    "-> created a data frame from a dictionary which created from  house size and house price variables<br>\n",
    "-> used scatter plot to visualize the relationship between house size and house price<br>\n",
    "</small>"
   ]
  },
  {
   "cell_type": "code",
   "execution_count": 40,
   "metadata": {},
   "outputs": [
    {
     "data": {
      "text/html": [
       "<div>\n",
       "<style scoped>\n",
       "    .dataframe tbody tr th:only-of-type {\n",
       "        vertical-align: middle;\n",
       "    }\n",
       "\n",
       "    .dataframe tbody tr th {\n",
       "        vertical-align: top;\n",
       "    }\n",
       "\n",
       "    .dataframe thead th {\n",
       "        text-align: right;\n",
       "    }\n",
       "</style>\n",
       "<table border=\"1\" class=\"dataframe\">\n",
       "  <thead>\n",
       "    <tr style=\"text-align: right;\">\n",
       "      <th></th>\n",
       "      <th>size</th>\n",
       "      <th>price</th>\n",
       "    </tr>\n",
       "  </thead>\n",
       "  <tbody>\n",
       "    <tr>\n",
       "      <th>0</th>\n",
       "      <td>5.24</td>\n",
       "      <td>44.32</td>\n",
       "    </tr>\n",
       "    <tr>\n",
       "      <th>1</th>\n",
       "      <td>3.42</td>\n",
       "      <td>36.33</td>\n",
       "    </tr>\n",
       "    <tr>\n",
       "      <th>2</th>\n",
       "      <td>5.41</td>\n",
       "      <td>45.36</td>\n",
       "    </tr>\n",
       "    <tr>\n",
       "      <th>3</th>\n",
       "      <td>9.14</td>\n",
       "      <td>78.46</td>\n",
       "    </tr>\n",
       "    <tr>\n",
       "      <th>4</th>\n",
       "      <td>14.23</td>\n",
       "      <td>118.27</td>\n",
       "    </tr>\n",
       "    <tr>\n",
       "      <th>5</th>\n",
       "      <td>3.66</td>\n",
       "      <td>38.07</td>\n",
       "    </tr>\n",
       "    <tr>\n",
       "      <th>6</th>\n",
       "      <td>12.34</td>\n",
       "      <td>105.57</td>\n",
       "    </tr>\n",
       "    <tr>\n",
       "      <th>7</th>\n",
       "      <td>12.82</td>\n",
       "      <td>110.06</td>\n",
       "    </tr>\n",
       "    <tr>\n",
       "      <th>8</th>\n",
       "      <td>9.98</td>\n",
       "      <td>87.74</td>\n",
       "    </tr>\n",
       "    <tr>\n",
       "      <th>9</th>\n",
       "      <td>3.51</td>\n",
       "      <td>36.63</td>\n",
       "    </tr>\n",
       "    <tr>\n",
       "      <th>10</th>\n",
       "      <td>14.30</td>\n",
       "      <td>120.46</td>\n",
       "    </tr>\n",
       "  </tbody>\n",
       "</table>\n",
       "</div>"
      ],
      "text/plain": [
       "     size   price\n",
       "0    5.24   44.32\n",
       "1    3.42   36.33\n",
       "2    5.41   45.36\n",
       "3    9.14   78.46\n",
       "4   14.23  118.27\n",
       "5    3.66   38.07\n",
       "6   12.34  105.57\n",
       "7   12.82  110.06\n",
       "8    9.98   87.74\n",
       "9    3.51   36.63\n",
       "10  14.30  120.46"
      ]
     },
     "execution_count": 40,
     "metadata": {},
     "output_type": "execute_result"
    }
   ],
   "source": [
    "frame = pd.DataFrame(data_set)\n",
    "\n",
    "frame.head(11)"
   ]
  },
  {
   "cell_type": "code",
   "execution_count": 41,
   "metadata": {},
   "outputs": [],
   "source": [
    "x = frame.iloc[:,:-1].values\n",
    "y = frame.iloc[:,-1].values"
   ]
  },
  {
   "cell_type": "code",
   "execution_count": 42,
   "metadata": {},
   "outputs": [
    {
     "data": {
      "text/plain": [
       "array([[ 5.24],\n",
       "       [ 3.42],\n",
       "       [ 5.41],\n",
       "       [ 9.14],\n",
       "       [14.23],\n",
       "       [ 3.66],\n",
       "       [12.34],\n",
       "       [12.82],\n",
       "       [ 9.98],\n",
       "       [ 3.51],\n",
       "       [14.3 ],\n",
       "       [ 9.24],\n",
       "       [ 5.81],\n",
       "       [13.19],\n",
       "       [ 3.84],\n",
       "       [ 5.83],\n",
       "       [14.57],\n",
       "       [ 8.54],\n",
       "       [12.21],\n",
       "       [ 3.82],\n",
       "       [12.94],\n",
       "       [14.01],\n",
       "       [ 4.98],\n",
       "       [ 6.18],\n",
       "       [ 5.19],\n",
       "       [13.93],\n",
       "       [11.26],\n",
       "       [13.45],\n",
       "       [14.99],\n",
       "       [14.89],\n",
       "       [ 1.88],\n",
       "       [10.1 ],\n",
       "       [11.97],\n",
       "       [ 7.83],\n",
       "       [12.04],\n",
       "       [14.15],\n",
       "       [ 6.41],\n",
       "       [13.81],\n",
       "       [10.91],\n",
       "       [ 6.6 ],\n",
       "       [10.44],\n",
       "       [ 3.48],\n",
       "       [10.51],\n",
       "       [13.8 ],\n",
       "       [ 1.78],\n",
       "       [11.91]])"
      ]
     },
     "execution_count": 42,
     "metadata": {},
     "output_type": "execute_result"
    }
   ],
   "source": [
    "x "
   ]
  },
  {
   "cell_type": "code",
   "execution_count": 43,
   "metadata": {},
   "outputs": [
    {
     "data": {
      "text/plain": [
       "array([ 44.32,  36.33,  45.36,  78.46, 118.27,  38.07, 105.57, 110.06,\n",
       "        87.74,  36.63, 120.46,  82.49,  52.63, 111.52,  36.59,  48.41,\n",
       "       120.58,  71.85,  99.32,  33.41, 113.1 , 113.22,  43.4 ,  56.67,\n",
       "        48.65, 116.87,  91.4 , 109.42, 128.3 , 127.58,  18.4 ,  88.45,\n",
       "       100.26,  63.82, 101.61, 121.86,  51.61, 119.78,  95.61,  55.3 ,\n",
       "        84.17,  35.34,  90.79, 111.96,  20.42,  97.71])"
      ]
     },
     "execution_count": 43,
     "metadata": {},
     "output_type": "execute_result"
    }
   ],
   "source": [
    "y"
   ]
  },
  {
   "cell_type": "code",
   "execution_count": 44,
   "metadata": {},
   "outputs": [
    {
     "data": {
      "text/plain": [
       "Text(0.5, 1.0, 'House Price prediction')"
      ]
     },
     "execution_count": 44,
     "metadata": {},
     "output_type": "execute_result"
    },
    {
     "data": {
      "image/png": "[encoded data removed]",
      "text/plain": [
       "<Figure size 640x480 with 1 Axes>"
      ]
     },
     "metadata": {},
     "output_type": "display_data"
    }
   ],
   "source": [
    "plt.scatter(x, y)\n",
    "plt.xlabel('Size')\n",
    "plt.ylabel('Price')\n",
    "plt.title('House Price prediction')"
   ]
  },
  {
   "attachments": {},
   "cell_type": "markdown",
   "metadata": {},
   "source": [
    "<p style=\"color: orange;\">Testing and training the data</p>"
   ]
  },
  {
   "cell_type": "code",
   "execution_count": 45,
   "metadata": {},
   "outputs": [],
   "source": [
    "from sklearn.model_selection import train_test_split\n",
    "x_train, x_test, y_train, y_test = train_test_split(x, y,test_size=0.5, random_state=0)"
   ]
  },
  {
   "cell_type": "code",
   "execution_count": 46,
   "metadata": {},
   "outputs": [
    {
     "name": "stdout",
     "output_type": "stream",
     "text": [
      "[[13.93]\n",
      " [ 4.98]\n",
      " [14.99]\n",
      " [14.23]\n",
      " [14.3 ]\n",
      " [10.1 ]\n",
      " [14.89]\n",
      " [ 9.24]\n",
      " [12.94]\n",
      " [11.97]\n",
      " [ 1.88]\n",
      " [10.91]\n",
      " [10.51]\n",
      " [ 5.41]\n",
      " [11.91]\n",
      " [12.21]\n",
      " [ 5.83]\n",
      " [13.45]\n",
      " [14.57]\n",
      " [ 3.48]\n",
      " [10.44]\n",
      " [ 9.98]\n",
      " [13.19]]\n"
     ]
    },
    {
     "data": {
      "text/plain": [
       "array([116.87,  43.4 , 128.3 , 118.27, 120.46,  88.45, 127.58,  82.49,\n",
       "       113.1 , 100.26,  18.4 ,  95.61,  90.79,  45.36,  97.71,  99.32,\n",
       "        48.41, 109.42, 120.58,  35.34,  84.17,  87.74, 111.52])"
      ]
     },
     "execution_count": 46,
     "metadata": {},
     "output_type": "execute_result"
    }
   ],
   "source": [
    "print(x_test)\n",
    "y_test"
   ]
  },
  {
   "attachments": {},
   "cell_type": "markdown",
   "metadata": {},
   "source": [
    "<strong>Model selection</strong><br>\n",
    "<small>\n",
    "Regression Model : Linear Regression model is choosen for predicting the house price based on the size of house<br>\n",
    "Model Training : Model trained using the custom data set <br>\n",
    "\n",
    "</small>"
   ]
  },
  {
   "cell_type": "code",
   "execution_count": 47,
   "metadata": {},
   "outputs": [
    {
     "data": {
      "text/html": [
       "<style>#sk-container-id-3 {color: black;background-color: white;}#sk-container-id-3 pre{padding: 0;}#sk-container-id-3 div.sk-toggleable {background-color: white;}#sk-container-id-3 label.sk-toggleable__label {cursor: pointer;display: block;width: 100%;margin-bottom: 0;padding: 0.3em;box-sizing: border-box;text-align: center;}#sk-container-id-3 label.sk-toggleable__label-arrow:before {content: \"▸\";float: left;margin-right: 0.25em;color: #696969;}#sk-container-id-3 label.sk-toggleable__label-arrow:hover:before {color: black;}#sk-container-id-3 div.sk-estimator:hover label.sk-toggleable__label-arrow:before {color: black;}#sk-container-id-3 div.sk-toggleable__content {max-height: 0;max-width: 0;overflow: hidden;text-align: left;background-color: #f0f8ff;}#sk-container-id-3 div.sk-toggleable__content pre {margin: 0.2em;color: black;border-radius: 0.25em;background-color: #f0f8ff;}#sk-container-id-3 input.sk-toggleable__control:checked~div.sk-toggleable__content {max-height: 200px;max-width: 100%;overflow: auto;}#sk-container-id-3 input.sk-toggleable__control:checked~label.sk-toggleable__label-arrow:before {content: \"▾\";}#sk-container-id-3 div.sk-estimator input.sk-toggleable__control:checked~label.sk-toggleable__label {background-color: #d4ebff;}#sk-container-id-3 div.sk-label input.sk-toggleable__control:checked~label.sk-toggleable__label {background-color: #d4ebff;}#sk-container-id-3 input.sk-hidden--visually {border: 0;clip: rect(1px 1px 1px 1px);clip: rect(1px, 1px, 1px, 1px);height: 1px;margin: -1px;overflow: hidden;padding: 0;position: absolute;width: 1px;}#sk-container-id-3 div.sk-estimator {font-family: monospace;background-color: #f0f8ff;border: 1px dotted black;border-radius: 0.25em;box-sizing: border-box;margin-bottom: 0.5em;}#sk-container-id-3 div.sk-estimator:hover {background-color: #d4ebff;}#sk-container-id-3 div.sk-parallel-item::after {content: \"\";width: 100%;border-bottom: 1px solid gray;flex-grow: 1;}#sk-container-id-3 div.sk-label:hover label.sk-toggleable__label {background-color: #d4ebff;}#sk-container-id-3 div.sk-serial::before {content: \"\";position: absolute;border-left: 1px solid gray;box-sizing: border-box;top: 0;bottom: 0;left: 50%;z-index: 0;}#sk-container-id-3 div.sk-serial {display: flex;flex-direction: column;align-items: center;background-color: white;padding-right: 0.2em;padding-left: 0.2em;position: relative;}#sk-container-id-3 div.sk-item {position: relative;z-index: 1;}#sk-container-id-3 div.sk-parallel {display: flex;align-items: stretch;justify-content: center;background-color: white;position: relative;}#sk-container-id-3 div.sk-item::before, #sk-container-id-3 div.sk-parallel-item::before {content: \"\";position: absolute;border-left: 1px solid gray;box-sizing: border-box;top: 0;bottom: 0;left: 50%;z-index: -1;}#sk-container-id-3 div.sk-parallel-item {display: flex;flex-direction: column;z-index: 1;position: relative;background-color: white;}#sk-container-id-3 div.sk-parallel-item:first-child::after {align-self: flex-end;width: 50%;}#sk-container-id-3 div.sk-parallel-item:last-child::after {align-self: flex-start;width: 50%;}#sk-container-id-3 div.sk-parallel-item:only-child::after {width: 0;}#sk-container-id-3 div.sk-dashed-wrapped {border: 1px dashed gray;margin: 0 0.4em 0.5em 0.4em;box-sizing: border-box;padding-bottom: 0.4em;background-color: white;}#sk-container-id-3 div.sk-label label {font-family: monospace;font-weight: bold;display: inline-block;line-height: 1.2em;}#sk-container-id-3 div.sk-label-container {text-align: center;}#sk-container-id-3 div.sk-container {/* jupyter's `normalize.less` sets `[hidden] { display: none; }` but bootstrap.min.css set `[hidden] { display: none !important; }` so we also need the `!important` here to be able to override the default hidden behavior on the sphinx rendered scikit-learn.org. See: https://github.com/scikit-learn/scikit-learn/issues/21755 */display: inline-block !important;position: relative;}#sk-container-id-3 div.sk-text-repr-fallback {display: none;}</style><div id=\"sk-container-id-3\" class=\"sk-top-container\"><div class=\"sk-text-repr-fallback\"><pre>LinearRegression()</pre><b>In a Jupyter environment, please rerun this cell to show the HTML representation or trust the notebook. <br />On GitHub, the HTML representation is unable to render, please try loading this page with nbviewer.org.</b></div><div class=\"sk-container\" hidden><div class=\"sk-item\"><div class=\"sk-estimator sk-toggleable\"><input class=\"sk-toggleable__control sk-hidden--visually\" id=\"sk-estimator-id-3\" type=\"checkbox\" checked><label for=\"sk-estimator-id-3\" class=\"sk-toggleable__label sk-toggleable__label-arrow\">LinearRegression</label><div class=\"sk-toggleable__content\"><pre>LinearRegression()</pre></div></div></div></div></div>"
      ],
      "text/plain": [
       "LinearRegression()"
      ]
     },
     "execution_count": 47,
     "metadata": {},
     "output_type": "execute_result"
    }
   ],
   "source": [
    "# training the linear regression model\n",
    "from sklearn.linear_model import LinearRegression\n",
    "model = LinearRegression()\n",
    "model.fit(x_train, y_train)"
   ]
  },
  {
   "cell_type": "code",
   "execution_count": 48,
   "metadata": {},
   "outputs": [
    {
     "data": {
      "text/plain": [
       "array([116.07244012,  45.27176848, 124.45777106, 118.44564699,\n",
       "       118.99939526,  85.77449907, 123.6667021 ,  78.97130604,\n",
       "       108.24085745, 100.56748856,  20.74863082,  92.18215762,\n",
       "        89.0178818 ,  48.673365  , 100.09284719, 102.46605406,\n",
       "        51.99585462, 112.27530913, 121.13528144,  33.40573413,\n",
       "        88.46413353,  84.82521632, 110.21852984])"
      ]
     },
     "execution_count": 48,
     "metadata": {},
     "output_type": "execute_result"
    }
   ],
   "source": [
    "y_housing_pred = model.predict(x_test)\n",
    "y_housing_pred"
   ]
  },
  {
   "attachments": {},
   "cell_type": "markdown",
   "metadata": {},
   "source": [
    "<p style=\"color: #036CE6\">visualizing the data</p>"
   ]
  },
  {
   "cell_type": "code",
   "execution_count": 49,
   "metadata": {},
   "outputs": [
    {
     "data": {
      "image/png": "[encoded data removed]",
      "text/plain": [
       "<Figure size 640x480 with 1 Axes>"
      ]
     },
     "metadata": {},
     "output_type": "display_data"
    }
   ],
   "source": [
    "# visualization  - training set results\n",
    "plt.scatter(x_train, y_train, color='black')\n",
    "plt.plot(x_train, model.predict(x_train), color='cyan')\n",
    "plt.title('Training set\\n Size vs Price ')\n",
    "plt.xlabel('Size')\n",
    "plt.ylabel('Price (in $)')\n",
    "plt.show()\n"
   ]
  },
  {
   "cell_type": "code",
   "execution_count": 50,
   "metadata": {},
   "outputs": [
    {
     "data": {
      "image/png": "[encoded data removed]",
      "text/plain": [
       "<Figure size 640x480 with 1 Axes>"
      ]
     },
     "metadata": {},
     "output_type": "display_data"
    }
   ],
   "source": [
    "# visualization  of  test set results\n",
    "plt.scatter(x_test, y_test, color='black')\n",
    "plt.plot(x_train, model.predict(x_train), color='cyan')\n",
    "plt.title('(Test set)\\n Size vs Price ')\n",
    "plt.xlabel('Size')\n",
    "plt.ylabel('Price (in $)')\n",
    "plt.show()\n"
   ]
  },
  {
   "attachments": {},
   "cell_type": "markdown",
   "metadata": {},
   "source": [
    "<strong style=\"color: #E4E9B9\">Model evaluation</strong><br>\n",
    "<small>\n",
    "Intercept and coefficient: The model intercept represents the predicted house price when the value of x is zero and the coefficient indicates the change in the predicted house price for every one unit change in x.<br>\n",
    "R-squared score: The model performance is evaluated using the R-squaredScore which measures the proportion of the variance in the house price that can be explained by the size of the house.<br>\n",
    "</small>"
   ]
  },
  {
   "cell_type": "code",
   "execution_count": 51,
   "metadata": {},
   "outputs": [
    {
     "name": "stdout",
     "output_type": "stream",
     "text": [
      "[7.91068957]\n",
      "5.876534433425704\n"
     ]
    }
   ],
   "source": [
    "# finding the coefficient, intercept\n",
    "print(model.coef_)\n",
    "print(model.intercept_)\n",
    " "
   ]
  },
  {
   "cell_type": "code",
   "execution_count": 54,
   "metadata": {},
   "outputs": [
    {
     "name": "stdout",
     "output_type": "stream",
     "text": [
      "[282.75066932]\n",
      "[401.41101284]\n"
     ]
    }
   ],
   "source": [
    "# making own prediction\n",
    "print(model.predict([[35]]))\n",
    "print(model.predict([[50]]))"
   ]
  },
  {
   "cell_type": "code",
   "execution_count": 53,
   "metadata": {},
   "outputs": [
    {
     "data": {
      "text/plain": [
       "0.9918126876295392"
      ]
     },
     "execution_count": 53,
     "metadata": {},
     "output_type": "execute_result"
    }
   ],
   "source": [
    "# r2 score\n",
    "from sklearn.metrics import r2_score\n",
    "r2_score(y_test, y_housing_pred)"
   ]
  },
  {
   "attachments": {},
   "cell_type": "markdown",
   "metadata": {},
   "source": [
    "<strong style=\"color: orange;\">Result</strong><br>\n",
    "<small>\n",
    "predictions: The model predicts the house price based on the size of the house.<br>\n",
    "model performance: The predicted prices were compared with the actual prices to assess the model performance.<br>\n",
    "</small>"
   ]
  },
  {
   "attachments": {},
   "cell_type": "markdown",
   "metadata": {},
   "source": [
    "<strong style=\"color: orange;\"><h1>Conclusion</h1></strong><br>\n",
    "<small>\n",
    "<p> Findings: The assignment demonstrated the use of linear regression model predict the house price based on the size of house</p><br>\n",
    "<p> Performance: The performance of the model was evaluated with R-square score</p><br>\n",
    "</small>\n",
    "\n",
    "<p>Assignment details </p>\n",
    "<small>\n",
    "Assignment name: house price prediction according to size of the house<br>\n",
    "ide: jupyter notebook<br>\n",
    "language: python<br>\n",
    "name: Anand<br>\n",
    "csv_file_source: created custom data set using numpy library<br>\n",
    "</small>"
   ]
  }
 ],
 "metadata": {
  "kernelspec": {
   "display_name": "Python 3",
   "language": "python",
   "name": "python3"
  },
  "language_info": {
   "codemirror_mode": {
    "name": "ipython",
    "version": 3
   },
   "file_extension": ".py",
   "mimetype": "text/x-python",
   "name": "python",
   "nbconvert_exporter": "python",
   "pygments_lexer": "ipython3",
   "version": "3.10.0"
  },
  "orig_nbformat": 4,
  "vscode": {
   "interpreter": {
    "hash": "c3ece586c7d80975212c60ced4ddb20793264f9048c03023bfb01d4a9bfc163c"
   }
  }
 },
 "nbformat": 4,
 "nbformat_minor": 2
}
