{
 "cells": [
  {
   "attachments": {},
   "cell_type": "markdown",
   "metadata": {},
   "source": [
    "#house price prediction according to size of the house"
   ]
  },
  {
   "cell_type": "code",
   "execution_count": 1,
   "metadata": {},
   "outputs": [],
   "source": [
    "import pandas as pd\n",
    "import numpy as np\n",
    "import matplotlib.pyplot as plt"
   ]
  },
  {
   "cell_type": "code",
   "execution_count": 2,
   "metadata": {},
   "outputs": [],
   "source": [
    "size = np.random.rand(41) * 14 + 1\n",
    "price = size * 8 + np.random.rand(41) * 10 \n",
    "\n",
    "house_size = np.round(size, 2)\n",
    "house_price = np.round(price, 2)"
   ]
  },
  {
   "cell_type": "code",
   "execution_count": 3,
   "metadata": {},
   "outputs": [
    {
     "data": {
      "text/plain": [
       "{'size': array([ 5.2 ,  2.07,  1.75,  2.15,  6.4 , 11.62,  8.45, 14.79, 11.91,\n",
       "         6.86,  2.6 ,  1.85, 14.95,  9.11,  3.47,  9.99,  7.33, 14.65,\n",
       "        12.4 , 13.34,  5.79,  7.94,  3.77,  8.72, 13.42,  9.34,  3.36,\n",
       "         4.32,  7.36, 11.13,  1.87, 10.07,  3.77,  9.82,  5.87,  5.01,\n",
       "        10.53, 13.97, 12.66,  5.04,  2.63]),\n",
       " 'price': array([ 45.03,  20.08,  17.31,  18.46,  56.06,  96.71,  75.08, 125.55,\n",
       "         99.23,  61.32,  27.79,  23.94, 119.77,  77.85,  36.9 ,  81.41,\n",
       "         61.97, 118.65,  99.43, 114.05,  48.62,  65.27,  30.31,  70.72,\n",
       "        111.74,  80.16,  36.19,  41.55,  60.81,  90.6 ,  23.82,  83.4 ,\n",
       "         32.76,  79.98,  49.22,  41.93,  88.03, 119.34, 108.77,  43.44,\n",
       "         21.52])}"
      ]
     },
     "execution_count": 3,
     "metadata": {},
     "output_type": "execute_result"
    }
   ],
   "source": [
    "data = {\n",
    "    'size': house_size,\n",
    "    'price': house_price\n",
    "}\n",
    "\n",
    "data"
   ]
  },
  {
   "cell_type": "code",
   "execution_count": 4,
   "metadata": {},
   "outputs": [
    {
     "data": {
      "text/html": [
       "<div>\n",
       "<style scoped>\n",
       "    .dataframe tbody tr th:only-of-type {\n",
       "        vertical-align: middle;\n",
       "    }\n",
       "\n",
       "    .dataframe tbody tr th {\n",
       "        vertical-align: top;\n",
       "    }\n",
       "\n",
       "    .dataframe thead th {\n",
       "        text-align: right;\n",
       "    }\n",
       "</style>\n",
       "<table border=\"1\" class=\"dataframe\">\n",
       "  <thead>\n",
       "    <tr style=\"text-align: right;\">\n",
       "      <th></th>\n",
       "      <th>size</th>\n",
       "      <th>price</th>\n",
       "    </tr>\n",
       "  </thead>\n",
       "  <tbody>\n",
       "    <tr>\n",
       "      <th>0</th>\n",
       "      <td>5.20</td>\n",
       "      <td>45.03</td>\n",
       "    </tr>\n",
       "    <tr>\n",
       "      <th>1</th>\n",
       "      <td>2.07</td>\n",
       "      <td>20.08</td>\n",
       "    </tr>\n",
       "    <tr>\n",
       "      <th>2</th>\n",
       "      <td>1.75</td>\n",
       "      <td>17.31</td>\n",
       "    </tr>\n",
       "    <tr>\n",
       "      <th>3</th>\n",
       "      <td>2.15</td>\n",
       "      <td>18.46</td>\n",
       "    </tr>\n",
       "    <tr>\n",
       "      <th>4</th>\n",
       "      <td>6.40</td>\n",
       "      <td>56.06</td>\n",
       "    </tr>\n",
       "    <tr>\n",
       "      <th>5</th>\n",
       "      <td>11.62</td>\n",
       "      <td>96.71</td>\n",
       "    </tr>\n",
       "    <tr>\n",
       "      <th>6</th>\n",
       "      <td>8.45</td>\n",
       "      <td>75.08</td>\n",
       "    </tr>\n",
       "    <tr>\n",
       "      <th>7</th>\n",
       "      <td>14.79</td>\n",
       "      <td>125.55</td>\n",
       "    </tr>\n",
       "    <tr>\n",
       "      <th>8</th>\n",
       "      <td>11.91</td>\n",
       "      <td>99.23</td>\n",
       "    </tr>\n",
       "    <tr>\n",
       "      <th>9</th>\n",
       "      <td>6.86</td>\n",
       "      <td>61.32</td>\n",
       "    </tr>\n",
       "    <tr>\n",
       "      <th>10</th>\n",
       "      <td>2.60</td>\n",
       "      <td>27.79</td>\n",
       "    </tr>\n",
       "  </tbody>\n",
       "</table>\n",
       "</div>"
      ],
      "text/plain": [
       "     size   price\n",
       "0    5.20   45.03\n",
       "1    2.07   20.08\n",
       "2    1.75   17.31\n",
       "3    2.15   18.46\n",
       "4    6.40   56.06\n",
       "5   11.62   96.71\n",
       "6    8.45   75.08\n",
       "7   14.79  125.55\n",
       "8   11.91   99.23\n",
       "9    6.86   61.32\n",
       "10   2.60   27.79"
      ]
     },
     "execution_count": 4,
     "metadata": {},
     "output_type": "execute_result"
    }
   ],
   "source": [
    "frame = pd.DataFrame(data)\n",
    "\n",
    "frame.head(11)"
   ]
  },
  {
   "cell_type": "code",
   "execution_count": 5,
   "metadata": {},
   "outputs": [],
   "source": [
    "x = frame.iloc[:,:-1].values\n",
    "y = frame.iloc[:,-1].values"
   ]
  },
  {
   "cell_type": "code",
   "execution_count": 6,
   "metadata": {},
   "outputs": [
    {
     "data": {
      "text/plain": [
       "array([[ 5.2 ],\n",
       "       [ 2.07],\n",
       "       [ 1.75],\n",
       "       [ 2.15],\n",
       "       [ 6.4 ],\n",
       "       [11.62],\n",
       "       [ 8.45],\n",
       "       [14.79],\n",
       "       [11.91],\n",
       "       [ 6.86],\n",
       "       [ 2.6 ],\n",
       "       [ 1.85],\n",
       "       [14.95],\n",
       "       [ 9.11],\n",
       "       [ 3.47],\n",
       "       [ 9.99],\n",
       "       [ 7.33],\n",
       "       [14.65],\n",
       "       [12.4 ],\n",
       "       [13.34],\n",
       "       [ 5.79],\n",
       "       [ 7.94],\n",
       "       [ 3.77],\n",
       "       [ 8.72],\n",
       "       [13.42],\n",
       "       [ 9.34],\n",
       "       [ 3.36],\n",
       "       [ 4.32],\n",
       "       [ 7.36],\n",
       "       [11.13],\n",
       "       [ 1.87],\n",
       "       [10.07],\n",
       "       [ 3.77],\n",
       "       [ 9.82],\n",
       "       [ 5.87],\n",
       "       [ 5.01],\n",
       "       [10.53],\n",
       "       [13.97],\n",
       "       [12.66],\n",
       "       [ 5.04],\n",
       "       [ 2.63]])"
      ]
     },
     "execution_count": 6,
     "metadata": {},
     "output_type": "execute_result"
    }
   ],
   "source": [
    "x "
   ]
  },
  {
   "cell_type": "code",
   "execution_count": 7,
   "metadata": {},
   "outputs": [
    {
     "data": {
      "text/plain": [
       "array([ 45.03,  20.08,  17.31,  18.46,  56.06,  96.71,  75.08, 125.55,\n",
       "        99.23,  61.32,  27.79,  23.94, 119.77,  77.85,  36.9 ,  81.41,\n",
       "        61.97, 118.65,  99.43, 114.05,  48.62,  65.27,  30.31,  70.72,\n",
       "       111.74,  80.16,  36.19,  41.55,  60.81,  90.6 ,  23.82,  83.4 ,\n",
       "        32.76,  79.98,  49.22,  41.93,  88.03, 119.34, 108.77,  43.44,\n",
       "        21.52])"
      ]
     },
     "execution_count": 7,
     "metadata": {},
     "output_type": "execute_result"
    }
   ],
   "source": [
    "y"
   ]
  },
  {
   "cell_type": "code",
   "execution_count": 8,
   "metadata": {},
   "outputs": [
    {
     "data": {
      "text/plain": [
       "Text(0.5, 1.0, 'House Price prediction')"
      ]
     },
     "execution_count": 8,
     "metadata": {},
     "output_type": "execute_result"
    },
    {
     "data": {
      "image/png": "[encoded data removed]",
      "text/plain": [
       "<Figure size 640x480 with 1 Axes>"
      ]
     },
     "metadata": {},
     "output_type": "display_data"
    }
   ],
   "source": [
    "plt.scatter(x, y)\n",
    "plt.xlabel('Size')\n",
    "plt.ylabel('Price')\n",
    "plt.title('House Price prediction')"
   ]
  },
  {
   "cell_type": "code",
   "execution_count": 9,
   "metadata": {},
   "outputs": [],
   "source": [
    "# data preprocessing\n",
    "from sklearn.model_selection import train_test_split\n",
    "x_train, x_test, y_train, y_test = train_test_split(x, y,test_size=0.5, random_state=0)"
   ]
  },
  {
   "cell_type": "code",
   "execution_count": 10,
   "metadata": {},
   "outputs": [
    {
     "name": "stdout",
     "output_type": "stream",
     "text": [
      "[[ 9.34]\n",
      " [ 5.01]\n",
      " [11.13]\n",
      " [ 6.4 ]\n",
      " [ 2.6 ]\n",
      " [10.07]\n",
      " [ 4.32]\n",
      " [ 1.85]\n",
      " [10.53]\n",
      " [ 1.87]\n",
      " [ 7.36]\n",
      " [ 5.79]\n",
      " [12.66]\n",
      " [ 1.75]\n",
      " [ 2.63]\n",
      " [12.4 ]\n",
      " [ 9.99]\n",
      " [ 3.77]\n",
      " [ 7.33]\n",
      " [13.97]\n",
      " [11.91]]\n"
     ]
    },
    {
     "data": {
      "text/plain": [
       "array([ 80.16,  41.93,  90.6 ,  56.06,  27.79,  83.4 ,  41.55,  23.94,\n",
       "        88.03,  23.82,  60.81,  48.62, 108.77,  17.31,  21.52,  99.43,\n",
       "        81.41,  30.31,  61.97, 119.34,  99.23])"
      ]
     },
     "execution_count": 10,
     "metadata": {},
     "output_type": "execute_result"
    }
   ],
   "source": [
    "print(x_test)\n",
    "y_test"
   ]
  },
  {
   "cell_type": "code",
   "execution_count": 11,
   "metadata": {},
   "outputs": [
    {
     "data": {
      "text/html": [
       "<style>#sk-container-id-1 {color: black;background-color: white;}#sk-container-id-1 pre{padding: 0;}#sk-container-id-1 div.sk-toggleable {background-color: white;}#sk-container-id-1 label.sk-toggleable__label {cursor: pointer;display: block;width: 100%;margin-bottom: 0;padding: 0.3em;box-sizing: border-box;text-align: center;}#sk-container-id-1 label.sk-toggleable__label-arrow:before {content: \"▸\";float: left;margin-right: 0.25em;color: #696969;}#sk-container-id-1 label.sk-toggleable__label-arrow:hover:before {color: black;}#sk-container-id-1 div.sk-estimator:hover label.sk-toggleable__label-arrow:before {color: black;}#sk-container-id-1 div.sk-toggleable__content {max-height: 0;max-width: 0;overflow: hidden;text-align: left;background-color: #f0f8ff;}#sk-container-id-1 div.sk-toggleable__content pre {margin: 0.2em;color: black;border-radius: 0.25em;background-color: #f0f8ff;}#sk-container-id-1 input.sk-toggleable__control:checked~div.sk-toggleable__content {max-height: 200px;max-width: 100%;overflow: auto;}#sk-container-id-1 input.sk-toggleable__control:checked~label.sk-toggleable__label-arrow:before {content: \"▾\";}#sk-container-id-1 div.sk-estimator input.sk-toggleable__control:checked~label.sk-toggleable__label {background-color: #d4ebff;}#sk-container-id-1 div.sk-label input.sk-toggleable__control:checked~label.sk-toggleable__label {background-color: #d4ebff;}#sk-container-id-1 input.sk-hidden--visually {border: 0;clip: rect(1px 1px 1px 1px);clip: rect(1px, 1px, 1px, 1px);height: 1px;margin: -1px;overflow: hidden;padding: 0;position: absolute;width: 1px;}#sk-container-id-1 div.sk-estimator {font-family: monospace;background-color: #f0f8ff;border: 1px dotted black;border-radius: 0.25em;box-sizing: border-box;margin-bottom: 0.5em;}#sk-container-id-1 div.sk-estimator:hover {background-color: #d4ebff;}#sk-container-id-1 div.sk-parallel-item::after {content: \"\";width: 100%;border-bottom: 1px solid gray;flex-grow: 1;}#sk-container-id-1 div.sk-label:hover label.sk-toggleable__label {background-color: #d4ebff;}#sk-container-id-1 div.sk-serial::before {content: \"\";position: absolute;border-left: 1px solid gray;box-sizing: border-box;top: 0;bottom: 0;left: 50%;z-index: 0;}#sk-container-id-1 div.sk-serial {display: flex;flex-direction: column;align-items: center;background-color: white;padding-right: 0.2em;padding-left: 0.2em;position: relative;}#sk-container-id-1 div.sk-item {position: relative;z-index: 1;}#sk-container-id-1 div.sk-parallel {display: flex;align-items: stretch;justify-content: center;background-color: white;position: relative;}#sk-container-id-1 div.sk-item::before, #sk-container-id-1 div.sk-parallel-item::before {content: \"\";position: absolute;border-left: 1px solid gray;box-sizing: border-box;top: 0;bottom: 0;left: 50%;z-index: -1;}#sk-container-id-1 div.sk-parallel-item {display: flex;flex-direction: column;z-index: 1;position: relative;background-color: white;}#sk-container-id-1 div.sk-parallel-item:first-child::after {align-self: flex-end;width: 50%;}#sk-container-id-1 div.sk-parallel-item:last-child::after {align-self: flex-start;width: 50%;}#sk-container-id-1 div.sk-parallel-item:only-child::after {width: 0;}#sk-container-id-1 div.sk-dashed-wrapped {border: 1px dashed gray;margin: 0 0.4em 0.5em 0.4em;box-sizing: border-box;padding-bottom: 0.4em;background-color: white;}#sk-container-id-1 div.sk-label label {font-family: monospace;font-weight: bold;display: inline-block;line-height: 1.2em;}#sk-container-id-1 div.sk-label-container {text-align: center;}#sk-container-id-1 div.sk-container {/* jupyter's `normalize.less` sets `[hidden] { display: none; }` but bootstrap.min.css set `[hidden] { display: none !important; }` so we also need the `!important` here to be able to override the default hidden behavior on the sphinx rendered scikit-learn.org. See: https://github.com/scikit-learn/scikit-learn/issues/21755 */display: inline-block !important;position: relative;}#sk-container-id-1 div.sk-text-repr-fallback {display: none;}</style><div id=\"sk-container-id-1\" class=\"sk-top-container\"><div class=\"sk-text-repr-fallback\"><pre>LinearRegression()</pre><b>In a Jupyter environment, please rerun this cell to show the HTML representation or trust the notebook. <br />On GitHub, the HTML representation is unable to render, please try loading this page with nbviewer.org.</b></div><div class=\"sk-container\" hidden><div class=\"sk-item\"><div class=\"sk-estimator sk-toggleable\"><input class=\"sk-toggleable__control sk-hidden--visually\" id=\"sk-estimator-id-1\" type=\"checkbox\" checked><label for=\"sk-estimator-id-1\" class=\"sk-toggleable__label sk-toggleable__label-arrow\">LinearRegression</label><div class=\"sk-toggleable__content\"><pre>LinearRegression()</pre></div></div></div></div></div>"
      ],
      "text/plain": [
       "LinearRegression()"
      ]
     },
     "execution_count": 11,
     "metadata": {},
     "output_type": "execute_result"
    }
   ],
   "source": [
    "# training the linear regression model\n",
    "from sklearn.linear_model import LinearRegression\n",
    "model = LinearRegression()\n",
    "model.fit(x_train, y_train)"
   ]
  },
  {
   "cell_type": "code",
   "execution_count": 12,
   "metadata": {},
   "outputs": [
    {
     "data": {
      "text/plain": [
       "array([ 78.74178756,  44.40103518,  92.93808012,  55.42497185,\n",
       "        25.28759101,  84.53133704,  38.92872129,  19.33942373,\n",
       "        88.1795463 ,  19.49804153,  63.03862596,  50.58712914,\n",
       "       105.07234136,  18.54633476,  25.5255177 , 103.01031004,\n",
       "        83.89686587,  34.56673195,  62.80069927, 115.46180686,\n",
       "        99.12417408])"
      ]
     },
     "execution_count": 12,
     "metadata": {},
     "output_type": "execute_result"
    }
   ],
   "source": [
    "y_housing_pred = model.predict(x_test)\n",
    "y_housing_pred"
   ]
  },
  {
   "cell_type": "code",
   "execution_count": 13,
   "metadata": {},
   "outputs": [
    {
     "data": {
      "image/png": "[encoded data removed]",
      "text/plain": [
       "<Figure size 640x480 with 1 Axes>"
      ]
     },
     "metadata": {},
     "output_type": "display_data"
    }
   ],
   "source": [
    "# visualizing the training set results\n",
    "plt.scatter(x_train, y_train, color='black')\n",
    "plt.plot(x_train, model.predict(x_train), color='cyan')\n",
    "plt.title('Training set\\n Size vs Price ')\n",
    "plt.xlabel('Size')\n",
    "plt.ylabel('Price (in $)')\n",
    "plt.show()\n"
   ]
  },
  {
   "cell_type": "code",
   "execution_count": 14,
   "metadata": {},
   "outputs": [
    {
     "data": {
      "image/png": "[encoded data removed]",
      "text/plain": [
       "<Figure size 640x480 with 1 Axes>"
      ]
     },
     "metadata": {},
     "output_type": "display_data"
    }
   ],
   "source": [
    "# visualizing the test set results\n",
    "plt.scatter(x_test, y_test, color='black')\n",
    "plt.plot(x_train, model.predict(x_train), color='cyan')\n",
    "plt.title('(Test set)\\n Size vs Price ')\n",
    "plt.xlabel('Size')\n",
    "plt.ylabel('Price (in $)')\n",
    "plt.show()\n"
   ]
  },
  {
   "cell_type": "code",
   "execution_count": 15,
   "metadata": {},
   "outputs": [
    {
     "name": "stdout",
     "output_type": "stream",
     "text": [
      "[282.24841719]\n"
     ]
    }
   ],
   "source": [
    "# making own prediction\n",
    "print(model.predict([[35]]))"
   ]
  },
  {
   "cell_type": "code",
   "execution_count": 16,
   "metadata": {},
   "outputs": [
    {
     "name": "stdout",
     "output_type": "stream",
     "text": [
      "[7.9308897]\n",
      "4.667277794310479\n"
     ]
    }
   ],
   "source": [
    "# finding the coefficient, intercept\n",
    "print(model.coef_)\n",
    "print(model.intercept_)\n",
    " "
   ]
  },
  {
   "cell_type": "code",
   "execution_count": 17,
   "metadata": {},
   "outputs": [
    {
     "data": {
      "text/plain": [
       "0.9922025081778589"
      ]
     },
     "execution_count": 17,
     "metadata": {},
     "output_type": "execute_result"
    }
   ],
   "source": [
    "# r2 score\n",
    "from sklearn.metrics import r2_score\n",
    "r2_score(y_test, y_housing_pred)"
   ]
  },
  {
   "cell_type": "code",
   "execution_count": null,
   "metadata": {},
   "outputs": [],
   "source": []
  },
  {
   "cell_type": "code",
   "execution_count": null,
   "metadata": {},
   "outputs": [],
   "source": []
  }
 ],
 "metadata": {
  "kernelspec": {
   "display_name": "Python 3",
   "language": "python",
   "name": "python3"
  },
  "language_info": {
   "codemirror_mode": {
    "name": "ipython",
    "version": 3
   },
   "file_extension": ".py",
   "mimetype": "text/x-python",
   "name": "python",
   "nbconvert_exporter": "python",
   "pygments_lexer": "ipython3",
   "version": "3.10.0"
  },
  "orig_nbformat": 4,
  "vscode": {
   "interpreter": {
    "hash": "c3ece586c7d80975212c60ced4ddb20793264f9048c03023bfb01d4a9bfc163c"
   }
  }
 },
 "nbformat": 4,
 "nbformat_minor": 2
}
